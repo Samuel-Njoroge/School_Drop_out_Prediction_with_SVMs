{
  "cells": [
    {
      "cell_type": "markdown",
      "metadata": {
        "id": "view-in-github",
        "colab_type": "text"
      },
      "source": [
        "<a href=\"https://colab.research.google.com/github/Samuel-Njoroge/School_Drop_out_Prediction_with_SVMs/blob/main/School_Dropout_.ipynb\" target=\"_parent\"><img src=\"https://colab.research.google.com/assets/colab-badge.svg\" alt=\"Open In Colab\"/></a>"
      ]
    },
    {
      "cell_type": "markdown",
      "metadata": {
        "id": "CVX0xUFQmGm2"
      },
      "source": [
        "# Machine Learning with Support Vector Classifier.\n",
        "Analyzing and predicting the dropout rates for University Students.\n",
        "The objective is to have an early detection when someone is about to drop out and plan to devise a strategy to reach out to those students and help them as early as possible."
      ],
      "id": "CVX0xUFQmGm2"
    },
    {
      "cell_type": "markdown",
      "metadata": {
        "id": "70NxxFYnmGm-"
      },
      "source": [
        "# Library imports"
      ],
      "id": "70NxxFYnmGm-"
    },
    {
      "cell_type": "code",
      "execution_count": 55,
      "metadata": {
        "id": "-25YqHThmGm_"
      },
      "outputs": [],
      "source": [
        "import pandas as pd #for reading the data\n",
        "from sklearn.preprocessing import MinMaxScaler #for data standardization\n",
        "from sklearn.model_selection import train_test_split #to split the data into train and test parts\n",
        "from sklearn.preprocessing import LabelEncoder, OrdinalEncoder #to encode the data to numerical\n",
        "from sklearn import svm, datasets\n",
        "from sklearn.metrics import confusion_matrix, accuracy_score, precision_score, recall_score, \\\n",
        "f1_score, classification_report, cohen_kappa_score, matthews_corrcoef, log_loss, \\\n",
        "ConfusionMatrixDisplay\n",
        "from sklearn.model_selection import GridSearchCV #for cross validation\n",
        "from sklearn.metrics import classification_report #for cross validation\n",
        "import matplotlib.pyplot as plt"
      ],
      "id": "-25YqHThmGm_"
    },
    {
      "cell_type": "code",
      "source": [
        "#mounting the drive.\n",
        "from google.colab import drive\n",
        "drive.mount('/content/drive/')"
      ],
      "metadata": {
        "colab": {
          "base_uri": "https://localhost:8080/"
        },
        "id": "YtH-Km3NnYDa",
        "outputId": "88ac5373-6264-4e3c-8662-aa7d2ccd8616"
      },
      "id": "YtH-Km3NnYDa",
      "execution_count": 56,
      "outputs": [
        {
          "output_type": "stream",
          "name": "stdout",
          "text": [
            "Drive already mounted at /content/drive/; to attempt to forcibly remount, call drive.mount(\"/content/drive/\", force_remount=True).\n"
          ]
        }
      ]
    },
    {
      "cell_type": "markdown",
      "metadata": {
        "id": "vEWfR5WOmGnB"
      },
      "source": [
        "## Loading the dataset."
      ],
      "id": "vEWfR5WOmGnB"
    },
    {
      "cell_type": "code",
      "execution_count": 57,
      "metadata": {
        "id": "X-IBA411mGnC",
        "outputId": "64a06c35-879f-49fb-d697-f2d7fc9a806a",
        "colab": {
          "base_uri": "https://localhost:8080/",
          "height": 352
        }
      },
      "outputs": [
        {
          "output_type": "execute_result",
          "data": {
            "text/plain": [
              "  Marital status Application mode Application order Course  \\\n",
              "0              1               17                 5    171   \n",
              "1              1               15                 1   9254   \n",
              "2              1                1                 5   9070   \n",
              "3              1               17                 2   9773   \n",
              "4              2               39                 1   8014   \n",
              "\n",
              "  Daytime/evening attendance\\t Previous qualification  \\\n",
              "0                            1                      1   \n",
              "1                            1                      1   \n",
              "2                            1                      1   \n",
              "3                            1                      1   \n",
              "4                            0                      1   \n",
              "\n",
              "  Previous qualification (grade) Nacionality Mother's qualification  \\\n",
              "0                          122.0           1                     19   \n",
              "1                          160.0           1                      1   \n",
              "2                          122.0           1                     37   \n",
              "3                          122.0           1                     38   \n",
              "4                          100.0           1                     37   \n",
              "\n",
              "  Father's qualification  ... Curricular units 2nd sem (credited)  \\\n",
              "0                     12  ...                                   0   \n",
              "1                      3  ...                                   0   \n",
              "2                     37  ...                                   0   \n",
              "3                     37  ...                                   0   \n",
              "4                     38  ...                                   0   \n",
              "\n",
              "  Curricular units 2nd sem (enrolled) Curricular units 2nd sem (evaluations)  \\\n",
              "0                                   0                                      0   \n",
              "1                                   6                                      6   \n",
              "2                                   6                                      0   \n",
              "3                                   6                                     10   \n",
              "4                                   6                                      6   \n",
              "\n",
              "  Curricular units 2nd sem (approved) Curricular units 2nd sem (grade)  \\\n",
              "0                                   0                                0   \n",
              "1                                   6                      13.66666667   \n",
              "2                                   0                                0   \n",
              "3                                   5                             12.4   \n",
              "4                                   6                               13   \n",
              "\n",
              "  Curricular units 2nd sem (without evaluations) Unemployment rate  \\\n",
              "0                                              0              10.8   \n",
              "1                                              0              13.9   \n",
              "2                                              0              10.8   \n",
              "3                                              0               9.4   \n",
              "4                                              0              13.9   \n",
              "\n",
              "  Inflation rate    GDP    Target  \n",
              "0            1.4   1.74   Dropout  \n",
              "1           -0.3   0.79  Graduate  \n",
              "2            1.4   1.74   Dropout  \n",
              "3           -0.8  -3.12  Graduate  \n",
              "4           -0.3   0.79  Graduate  \n",
              "\n",
              "[5 rows x 37 columns]"
            ],
            "text/html": [
              "\n",
              "  <div id=\"df-a38f4f34-af77-475f-b76a-531bc1259504\">\n",
              "    <div class=\"colab-df-container\">\n",
              "      <div>\n",
              "<style scoped>\n",
              "    .dataframe tbody tr th:only-of-type {\n",
              "        vertical-align: middle;\n",
              "    }\n",
              "\n",
              "    .dataframe tbody tr th {\n",
              "        vertical-align: top;\n",
              "    }\n",
              "\n",
              "    .dataframe thead th {\n",
              "        text-align: right;\n",
              "    }\n",
              "</style>\n",
              "<table border=\"1\" class=\"dataframe\">\n",
              "  <thead>\n",
              "    <tr style=\"text-align: right;\">\n",
              "      <th></th>\n",
              "      <th>Marital status</th>\n",
              "      <th>Application mode</th>\n",
              "      <th>Application order</th>\n",
              "      <th>Course</th>\n",
              "      <th>Daytime/evening attendance\\t</th>\n",
              "      <th>Previous qualification</th>\n",
              "      <th>Previous qualification (grade)</th>\n",
              "      <th>Nacionality</th>\n",
              "      <th>Mother's qualification</th>\n",
              "      <th>Father's qualification</th>\n",
              "      <th>...</th>\n",
              "      <th>Curricular units 2nd sem (credited)</th>\n",
              "      <th>Curricular units 2nd sem (enrolled)</th>\n",
              "      <th>Curricular units 2nd sem (evaluations)</th>\n",
              "      <th>Curricular units 2nd sem (approved)</th>\n",
              "      <th>Curricular units 2nd sem (grade)</th>\n",
              "      <th>Curricular units 2nd sem (without evaluations)</th>\n",
              "      <th>Unemployment rate</th>\n",
              "      <th>Inflation rate</th>\n",
              "      <th>GDP</th>\n",
              "      <th>Target</th>\n",
              "    </tr>\n",
              "  </thead>\n",
              "  <tbody>\n",
              "    <tr>\n",
              "      <th>0</th>\n",
              "      <td>1</td>\n",
              "      <td>17</td>\n",
              "      <td>5</td>\n",
              "      <td>171</td>\n",
              "      <td>1</td>\n",
              "      <td>1</td>\n",
              "      <td>122.0</td>\n",
              "      <td>1</td>\n",
              "      <td>19</td>\n",
              "      <td>12</td>\n",
              "      <td>...</td>\n",
              "      <td>0</td>\n",
              "      <td>0</td>\n",
              "      <td>0</td>\n",
              "      <td>0</td>\n",
              "      <td>0</td>\n",
              "      <td>0</td>\n",
              "      <td>10.8</td>\n",
              "      <td>1.4</td>\n",
              "      <td>1.74</td>\n",
              "      <td>Dropout</td>\n",
              "    </tr>\n",
              "    <tr>\n",
              "      <th>1</th>\n",
              "      <td>1</td>\n",
              "      <td>15</td>\n",
              "      <td>1</td>\n",
              "      <td>9254</td>\n",
              "      <td>1</td>\n",
              "      <td>1</td>\n",
              "      <td>160.0</td>\n",
              "      <td>1</td>\n",
              "      <td>1</td>\n",
              "      <td>3</td>\n",
              "      <td>...</td>\n",
              "      <td>0</td>\n",
              "      <td>6</td>\n",
              "      <td>6</td>\n",
              "      <td>6</td>\n",
              "      <td>13.66666667</td>\n",
              "      <td>0</td>\n",
              "      <td>13.9</td>\n",
              "      <td>-0.3</td>\n",
              "      <td>0.79</td>\n",
              "      <td>Graduate</td>\n",
              "    </tr>\n",
              "    <tr>\n",
              "      <th>2</th>\n",
              "      <td>1</td>\n",
              "      <td>1</td>\n",
              "      <td>5</td>\n",
              "      <td>9070</td>\n",
              "      <td>1</td>\n",
              "      <td>1</td>\n",
              "      <td>122.0</td>\n",
              "      <td>1</td>\n",
              "      <td>37</td>\n",
              "      <td>37</td>\n",
              "      <td>...</td>\n",
              "      <td>0</td>\n",
              "      <td>6</td>\n",
              "      <td>0</td>\n",
              "      <td>0</td>\n",
              "      <td>0</td>\n",
              "      <td>0</td>\n",
              "      <td>10.8</td>\n",
              "      <td>1.4</td>\n",
              "      <td>1.74</td>\n",
              "      <td>Dropout</td>\n",
              "    </tr>\n",
              "    <tr>\n",
              "      <th>3</th>\n",
              "      <td>1</td>\n",
              "      <td>17</td>\n",
              "      <td>2</td>\n",
              "      <td>9773</td>\n",
              "      <td>1</td>\n",
              "      <td>1</td>\n",
              "      <td>122.0</td>\n",
              "      <td>1</td>\n",
              "      <td>38</td>\n",
              "      <td>37</td>\n",
              "      <td>...</td>\n",
              "      <td>0</td>\n",
              "      <td>6</td>\n",
              "      <td>10</td>\n",
              "      <td>5</td>\n",
              "      <td>12.4</td>\n",
              "      <td>0</td>\n",
              "      <td>9.4</td>\n",
              "      <td>-0.8</td>\n",
              "      <td>-3.12</td>\n",
              "      <td>Graduate</td>\n",
              "    </tr>\n",
              "    <tr>\n",
              "      <th>4</th>\n",
              "      <td>2</td>\n",
              "      <td>39</td>\n",
              "      <td>1</td>\n",
              "      <td>8014</td>\n",
              "      <td>0</td>\n",
              "      <td>1</td>\n",
              "      <td>100.0</td>\n",
              "      <td>1</td>\n",
              "      <td>37</td>\n",
              "      <td>38</td>\n",
              "      <td>...</td>\n",
              "      <td>0</td>\n",
              "      <td>6</td>\n",
              "      <td>6</td>\n",
              "      <td>6</td>\n",
              "      <td>13</td>\n",
              "      <td>0</td>\n",
              "      <td>13.9</td>\n",
              "      <td>-0.3</td>\n",
              "      <td>0.79</td>\n",
              "      <td>Graduate</td>\n",
              "    </tr>\n",
              "  </tbody>\n",
              "</table>\n",
              "<p>5 rows × 37 columns</p>\n",
              "</div>\n",
              "      <button class=\"colab-df-convert\" onclick=\"convertToInteractive('df-a38f4f34-af77-475f-b76a-531bc1259504')\"\n",
              "              title=\"Convert this dataframe to an interactive table.\"\n",
              "              style=\"display:none;\">\n",
              "        \n",
              "  <svg xmlns=\"http://www.w3.org/2000/svg\" height=\"24px\"viewBox=\"0 0 24 24\"\n",
              "       width=\"24px\">\n",
              "    <path d=\"M0 0h24v24H0V0z\" fill=\"none\"/>\n",
              "    <path d=\"M18.56 5.44l.94 2.06.94-2.06 2.06-.94-2.06-.94-.94-2.06-.94 2.06-2.06.94zm-11 1L8.5 8.5l.94-2.06 2.06-.94-2.06-.94L8.5 2.5l-.94 2.06-2.06.94zm10 10l.94 2.06.94-2.06 2.06-.94-2.06-.94-.94-2.06-.94 2.06-2.06.94z\"/><path d=\"M17.41 7.96l-1.37-1.37c-.4-.4-.92-.59-1.43-.59-.52 0-1.04.2-1.43.59L10.3 9.45l-7.72 7.72c-.78.78-.78 2.05 0 2.83L4 21.41c.39.39.9.59 1.41.59.51 0 1.02-.2 1.41-.59l7.78-7.78 2.81-2.81c.8-.78.8-2.07 0-2.86zM5.41 20L4 18.59l7.72-7.72 1.47 1.35L5.41 20z\"/>\n",
              "  </svg>\n",
              "      </button>\n",
              "      \n",
              "  <style>\n",
              "    .colab-df-container {\n",
              "      display:flex;\n",
              "      flex-wrap:wrap;\n",
              "      gap: 12px;\n",
              "    }\n",
              "\n",
              "    .colab-df-convert {\n",
              "      background-color: #E8F0FE;\n",
              "      border: none;\n",
              "      border-radius: 50%;\n",
              "      cursor: pointer;\n",
              "      display: none;\n",
              "      fill: #1967D2;\n",
              "      height: 32px;\n",
              "      padding: 0 0 0 0;\n",
              "      width: 32px;\n",
              "    }\n",
              "\n",
              "    .colab-df-convert:hover {\n",
              "      background-color: #E2EBFA;\n",
              "      box-shadow: 0px 1px 2px rgba(60, 64, 67, 0.3), 0px 1px 3px 1px rgba(60, 64, 67, 0.15);\n",
              "      fill: #174EA6;\n",
              "    }\n",
              "\n",
              "    [theme=dark] .colab-df-convert {\n",
              "      background-color: #3B4455;\n",
              "      fill: #D2E3FC;\n",
              "    }\n",
              "\n",
              "    [theme=dark] .colab-df-convert:hover {\n",
              "      background-color: #434B5C;\n",
              "      box-shadow: 0px 1px 3px 1px rgba(0, 0, 0, 0.15);\n",
              "      filter: drop-shadow(0px 1px 2px rgba(0, 0, 0, 0.3));\n",
              "      fill: #FFFFFF;\n",
              "    }\n",
              "  </style>\n",
              "\n",
              "      <script>\n",
              "        const buttonEl =\n",
              "          document.querySelector('#df-a38f4f34-af77-475f-b76a-531bc1259504 button.colab-df-convert');\n",
              "        buttonEl.style.display =\n",
              "          google.colab.kernel.accessAllowed ? 'block' : 'none';\n",
              "\n",
              "        async function convertToInteractive(key) {\n",
              "          const element = document.querySelector('#df-a38f4f34-af77-475f-b76a-531bc1259504');\n",
              "          const dataTable =\n",
              "            await google.colab.kernel.invokeFunction('convertToInteractive',\n",
              "                                                     [key], {});\n",
              "          if (!dataTable) return;\n",
              "\n",
              "          const docLinkHtml = 'Like what you see? Visit the ' +\n",
              "            '<a target=\"_blank\" href=https://colab.research.google.com/notebooks/data_table.ipynb>data table notebook</a>'\n",
              "            + ' to learn more about interactive tables.';\n",
              "          element.innerHTML = '';\n",
              "          dataTable['output_type'] = 'display_data';\n",
              "          await google.colab.output.renderOutput(dataTable, element);\n",
              "          const docLink = document.createElement('div');\n",
              "          docLink.innerHTML = docLinkHtml;\n",
              "          element.appendChild(docLink);\n",
              "        }\n",
              "      </script>\n",
              "    </div>\n",
              "  </div>\n",
              "  "
            ]
          },
          "metadata": {},
          "execution_count": 57
        }
      ],
      "source": [
        "school_data = pd.read_csv(\"/content/drive/MyDrive/Colab Notebooks/Machine Learning_SVMs/School_Drop_Out_ML/student_dropout.csv\", dtype = str)\n",
        "school_data.head()"
      ],
      "id": "X-IBA411mGnC"
    },
    {
      "cell_type": "markdown",
      "metadata": {
        "id": "VUPTUjb_mGnE"
      },
      "source": [
        "#### Checking target class distribution and check for missing values"
      ],
      "id": "VUPTUjb_mGnE"
    },
    {
      "cell_type": "code",
      "execution_count": 58,
      "metadata": {
        "id": "QW1fDSKDmGnF",
        "colab": {
          "base_uri": "https://localhost:8080/"
        },
        "outputId": "f3c6b3f2-5408-4c01-e4b7-f1b79aff638b"
      },
      "outputs": [
        {
          "output_type": "execute_result",
          "data": {
            "text/plain": [
              "Graduate    2209\n",
              "Dropout     1421\n",
              "Enrolled     794\n",
              "Name: Target, dtype: int64"
            ]
          },
          "metadata": {},
          "execution_count": 58
        }
      ],
      "source": [
        "#Checking the total values in the Target column\n",
        "school_data['Target'].value_counts()"
      ],
      "id": "QW1fDSKDmGnF"
    },
    {
      "cell_type": "code",
      "execution_count": 59,
      "metadata": {
        "id": "kBOwsSjkmGnF",
        "colab": {
          "base_uri": "https://localhost:8080/"
        },
        "outputId": "8b06f30c-db5e-4092-952b-c50dc4900384"
      },
      "outputs": [
        {
          "output_type": "execute_result",
          "data": {
            "text/plain": [
              "0"
            ]
          },
          "metadata": {},
          "execution_count": 59
        }
      ],
      "source": [
        "#Checking missing values.\n",
        "school_data['Target'].isnull().sum()"
      ],
      "id": "kBOwsSjkmGnF"
    },
    {
      "cell_type": "code",
      "source": [
        "#school_data.drop(['Marital status'] ,axis=1)"
      ],
      "metadata": {
        "id": "vT_-_kMrgc-M"
      },
      "id": "vT_-_kMrgc-M",
      "execution_count": 60,
      "outputs": []
    },
    {
      "cell_type": "markdown",
      "metadata": {
        "id": "8CeJ45eWmGnG"
      },
      "source": [
        "## Preprocessing"
      ],
      "id": "8CeJ45eWmGnG"
    },
    {
      "cell_type": "markdown",
      "metadata": {
        "id": "RWhCF31DmGnG"
      },
      "source": [
        "#### Defining the target and the inputs"
      ],
      "id": "RWhCF31DmGnG"
    },
    {
      "cell_type": "code",
      "execution_count": 61,
      "metadata": {
        "id": "WzVQatpPmGnG"
      },
      "outputs": [],
      "source": [
        "target = school_data['Target']\n",
        "inputs = school_data.drop(['Target'] , axis = 1)"
      ],
      "id": "WzVQatpPmGnG"
    },
    {
      "cell_type": "markdown",
      "metadata": {
        "id": "uq1jJ0n4mGnH"
      },
      "source": [
        "#### Creating a training and a testing dataset"
      ],
      "id": "uq1jJ0n4mGnH"
    },
    {
      "cell_type": "code",
      "execution_count": 67,
      "metadata": {
        "id": "zshtmsQAmGnH"
      },
      "outputs": [],
      "source": [
        "x_train , x_test , y_train, y_test = train_test_split(inputs, target , test_size = 0.2, random_state = 365,stratify = target  )"
      ],
      "id": "zshtmsQAmGnH"
    },
    {
      "cell_type": "code",
      "source": [
        "#Size of the training dataset.\n",
        "y_train.value_counts()"
      ],
      "metadata": {
        "colab": {
          "base_uri": "https://localhost:8080/"
        },
        "id": "VYQ21d06eUJR",
        "outputId": "34e9979a-c854-4adc-ca12-fe6476a15b2d"
      },
      "id": "VYQ21d06eUJR",
      "execution_count": 68,
      "outputs": [
        {
          "output_type": "execute_result",
          "data": {
            "text/plain": [
              "Graduate    1767\n",
              "Dropout     1137\n",
              "Enrolled     635\n",
              "Name: Target, dtype: int64"
            ]
          },
          "metadata": {},
          "execution_count": 68
        }
      ]
    },
    {
      "cell_type": "code",
      "source": [
        "#Size of the test dataset.\n",
        "y_test.value_counts()"
      ],
      "metadata": {
        "colab": {
          "base_uri": "https://localhost:8080/"
        },
        "id": "7U3THWg5ehYX",
        "outputId": "f4fe2571-4e89-46af-8201-692631fcfb62"
      },
      "id": "7U3THWg5ehYX",
      "execution_count": 69,
      "outputs": [
        {
          "output_type": "execute_result",
          "data": {
            "text/plain": [
              "Graduate    442\n",
              "Dropout     284\n",
              "Enrolled    159\n",
              "Name: Target, dtype: int64"
            ]
          },
          "metadata": {},
          "execution_count": 69
        }
      ]
    },
    {
      "cell_type": "markdown",
      "metadata": {
        "id": "z4obZEm2mGnH"
      },
      "source": [
        "#### Defining an encoder for the target \n",
        "\n",
        "Label encoding helps in  preserving the target labels.\n",
        "\n",
        "Ordinal encoding transforms categorical data into numerical."
      ],
      "id": "z4obZEm2mGnH"
    },
    {
      "cell_type": "code",
      "execution_count": 74,
      "metadata": {
        "id": "ME7l5Y24mGnI"
      },
      "outputs": [],
      "source": [
        "enc_i = OrdinalEncoder(handle_unknown='use_encoded_value', unknown_value=-1)\n",
        "enc_t = LabelEncoder()"
      ],
      "id": "ME7l5Y24mGnI"
    },
    {
      "cell_type": "markdown",
      "metadata": {
        "id": "SFQzqmfQmGnI"
      },
      "source": [
        "#### Applying the fit_transform() method on the training data and the transform() method on the test data."
      ],
      "id": "SFQzqmfQmGnI"
    },
    {
      "cell_type": "code",
      "execution_count": 75,
      "metadata": {
        "id": "q-PbshVMmGnI"
      },
      "outputs": [],
      "source": [
        "x_train_transf = enc_i.fit_transform(x_train)\n",
        "x_test_transf = enc_i.transform(x_test)\n",
        "\n",
        "y_train_transf = enc_t.fit_transform(y_train)\n",
        "y_test_transf = enc_t.transform(y_test)\n"
      ],
      "id": "q-PbshVMmGnI"
    },
    {
      "cell_type": "code",
      "execution_count": 76,
      "metadata": {
        "id": "7EGkfxK9mGnJ",
        "colab": {
          "base_uri": "https://localhost:8080/"
        },
        "outputId": "a3706b34-d56b-4093-bbe6-06ac1452e14a"
      },
      "outputs": [
        {
          "output_type": "execute_result",
          "data": {
            "text/plain": [
              "array([2, 2, 2, ..., 0, 2, 2])"
            ]
          },
          "metadata": {},
          "execution_count": 76
        }
      ],
      "source": [
        "y_train_transf"
      ],
      "id": "7EGkfxK9mGnJ"
    },
    {
      "cell_type": "code",
      "source": [
        "x_train_transf"
      ],
      "metadata": {
        "colab": {
          "base_uri": "https://localhost:8080/"
        },
        "id": "llFQZTpPjnVK",
        "outputId": "ec2276dc-b600-429e-8a56-9395170a4e2a"
      },
      "id": "llFQZTpPjnVK",
      "execution_count": 77,
      "outputs": [
        {
          "output_type": "execute_result",
          "data": {
            "text/plain": [
              "array([[0., 0., 2., ..., 7., 6., 4.],\n",
              "       [0., 0., 1., ..., 6., 2., 0.],\n",
              "       [0., 0., 1., ..., 1., 4., 8.],\n",
              "       ...,\n",
              "       [0., 9., 1., ..., 6., 2., 0.],\n",
              "       [0., 0., 1., ..., 9., 1., 2.],\n",
              "       [0., 0., 5., ..., 9., 1., 2.]])"
            ]
          },
          "metadata": {},
          "execution_count": 77
        }
      ]
    },
    {
      "cell_type": "markdown",
      "metadata": {
        "id": "f5I4eLdZmGnJ"
      },
      "source": [
        "### Rescaling to the range [-1, 1]"
      ],
      "id": "f5I4eLdZmGnJ"
    },
    {
      "cell_type": "code",
      "execution_count": 78,
      "metadata": {
        "id": "IyIzzRX9mGnJ"
      },
      "outputs": [],
      "source": [
        "scaling = MinMaxScaler(feature_range=(-1,1)).fit(x_train_transf)\n",
        "x_train_rescaled = scaling.transform(x_train_transf)"
      ],
      "id": "IyIzzRX9mGnJ"
    },
    {
      "cell_type": "markdown",
      "metadata": {
        "id": "IZvkF7fdmGnK"
      },
      "source": [
        "### Choose a C value of 1"
      ],
      "id": "IZvkF7fdmGnK"
    },
    {
      "cell_type": "code",
      "execution_count": 79,
      "metadata": {
        "id": "4skdE-kmmGnK"
      },
      "outputs": [],
      "source": [
        "C = 1.0"
      ],
      "id": "4skdE-kmmGnK"
    },
    {
      "cell_type": "markdown",
      "metadata": {
        "id": "YI-ZXe7mmGnK"
      },
      "source": [
        "## Classification"
      ],
      "id": "YI-ZXe7mmGnK"
    },
    {
      "cell_type": "code",
      "execution_count": 80,
      "metadata": {
        "id": "JTZCYZY_mGnL"
      },
      "outputs": [],
      "source": [
        "svc = svm.SVC(kernel ='linear' ,C = C).fit(x_train_rescaled , y_train_transf)"
      ],
      "id": "JTZCYZY_mGnL"
    },
    {
      "cell_type": "code",
      "execution_count": 81,
      "metadata": {
        "id": "bc2uRKwHmGnL"
      },
      "outputs": [],
      "source": [
        "y_pred_test = svc.predict(scaling.transform(x_test_transf))"
      ],
      "id": "bc2uRKwHmGnL"
    },
    {
      "cell_type": "markdown",
      "metadata": {
        "id": "PLNcU21-mGnM"
      },
      "source": [
        "#### Evaluating the model on the test data"
      ],
      "id": "PLNcU21-mGnM"
    },
    {
      "cell_type": "code",
      "execution_count": 82,
      "metadata": {
        "id": "M0beNaEnmGnM",
        "colab": {
          "base_uri": "https://localhost:8080/",
          "height": 334
        },
        "outputId": "50d7fceb-5fe2-4dde-d290-7466d66e6188"
      },
      "outputs": [
        {
          "output_type": "display_data",
          "data": {
            "text/plain": [
              "<Figure size 576x360 with 2 Axes>"
            ],
            "image/png": "[encoded data removed]"
          },
          "metadata": {
            "needs_background": "light"
          }
        }
      ],
      "source": [
        "#Confusion Matrix\n",
        "fig, ax = plt.subplots(figsize=(8, 5))\n",
        "\n",
        "cmp = ConfusionMatrixDisplay(\n",
        "    confusion_matrix(y_test_transf, y_pred_test),\n",
        "    display_labels=[\"Graduate\" , \"Dropout\", \"Enrolled\"],\n",
        "   \n",
        ")\n",
        "\n",
        "cmp.plot(ax=ax);"
      ],
      "id": "M0beNaEnmGnM"
    },
    {
      "cell_type": "code",
      "execution_count": 83,
      "metadata": {
        "id": "vE5tmXcDmGnN",
        "colab": {
          "base_uri": "https://localhost:8080/"
        },
        "outputId": "13517e23-fcd5-43a4-b0dc-ac01ebe7d6ef"
      },
      "outputs": [
        {
          "output_type": "stream",
          "name": "stdout",
          "text": [
            "              precision    recall  f1-score   support\n",
            "\n",
            "    Graduate       0.85      0.75      0.79       284\n",
            "     Dropout       0.62      0.29      0.39       159\n",
            "    Enrolled       0.75      0.95      0.84       442\n",
            "\n",
            "    accuracy                           0.76       885\n",
            "   macro avg       0.74      0.66      0.67       885\n",
            "weighted avg       0.76      0.76      0.74       885\n",
            "\n"
          ]
        }
      ],
      "source": [
        "#classification report\n",
        "print(classification_report(y_test_transf,y_pred_test,target_names = [\"Graduate\" , \"Dropout\", \"Enrolled\"]))"
      ],
      "id": "vE5tmXcDmGnN"
    },
    {
      "cell_type": "markdown",
      "metadata": {
        "id": "HP4XQgdvmGnN"
      },
      "source": [
        "## Classification with different kernels"
      ],
      "id": "HP4XQgdvmGnN"
    },
    {
      "cell_type": "markdown",
      "metadata": {
        "id": "LOWgfH9LmGnN"
      },
      "source": [
        "### Creating and testing the svms with the respective kernels and C values\n"
      ],
      "id": "LOWgfH9LmGnN"
    },
    {
      "cell_type": "code",
      "execution_count": 84,
      "metadata": {
        "id": "ruEAfcEymGnO"
      },
      "outputs": [],
      "source": [
        "#linear, C = 1\n",
        "#rbf, gamma = 1e-3 C = 1\n",
        "#sigmoid, C = 1\n",
        "#poly, C = 10\n",
        "tuned_parameters = [\n",
        "    {'kernel':['linear'] , 'C':[1,10]},\n",
        "    {'kernel' :['poly'] , 'C':[1,10]},\n",
        "    {'kernel' :['sigmoid'] , 'C':[1,10]},\n",
        "    {'kernel':['rbf'],'gamma':[1e-3],'C':[1,10]}\n",
        "]"
      ],
      "id": "ruEAfcEymGnO"
    },
    {
      "cell_type": "code",
      "execution_count": 85,
      "metadata": {
        "id": "ruT3F8u0mGnO"
      },
      "outputs": [],
      "source": [
        "#classification report for each classifier\n",
        "scores = ['precision' , 'recall']"
      ],
      "id": "ruT3F8u0mGnO"
    },
    {
      "cell_type": "code",
      "execution_count": 86,
      "metadata": {
        "id": "kcVu5HccmGnO",
        "colab": {
          "base_uri": "https://localhost:8080/"
        },
        "outputId": "d4191bf1-f152-44a7-89c3-52bc6d864abd"
      },
      "outputs": [
        {
          "output_type": "stream",
          "name": "stdout",
          "text": [
            "Tuning hyper-parameters for precision \n",
            "\n"
          ]
        },
        {
          "output_type": "stream",
          "name": "stderr",
          "text": [
            "/usr/local/lib/python3.7/dist-packages/sklearn/metrics/_classification.py:1318: UndefinedMetricWarning: Precision is ill-defined and being set to 0.0 in labels with no predicted samples. Use `zero_division` parameter to control this behavior.\n",
            "  _warn_prf(average, modifier, msg_start, len(result))\n",
            "/usr/local/lib/python3.7/dist-packages/sklearn/metrics/_classification.py:1318: UndefinedMetricWarning: Precision is ill-defined and being set to 0.0 in labels with no predicted samples. Use `zero_division` parameter to control this behavior.\n",
            "  _warn_prf(average, modifier, msg_start, len(result))\n",
            "/usr/local/lib/python3.7/dist-packages/sklearn/metrics/_classification.py:1318: UndefinedMetricWarning: Precision is ill-defined and being set to 0.0 in labels with no predicted samples. Use `zero_division` parameter to control this behavior.\n",
            "  _warn_prf(average, modifier, msg_start, len(result))\n",
            "/usr/local/lib/python3.7/dist-packages/sklearn/metrics/_classification.py:1318: UndefinedMetricWarning: Precision is ill-defined and being set to 0.0 in labels with no predicted samples. Use `zero_division` parameter to control this behavior.\n",
            "  _warn_prf(average, modifier, msg_start, len(result))\n",
            "/usr/local/lib/python3.7/dist-packages/sklearn/metrics/_classification.py:1318: UndefinedMetricWarning: Precision is ill-defined and being set to 0.0 in labels with no predicted samples. Use `zero_division` parameter to control this behavior.\n",
            "  _warn_prf(average, modifier, msg_start, len(result))\n"
          ]
        },
        {
          "output_type": "stream",
          "name": "stdout",
          "text": [
            "Best parameters set found on development set\n",
            "\n",
            "{'C': 1, 'kernel': 'linear'}\n",
            "\n",
            "Grid scores on development set:\n",
            "\n",
            "0.684 , (+/-0.048) for {'C': 1, 'kernel': 'linear'} \n",
            "0.683 , (+/-0.029) for {'C': 10, 'kernel': 'linear'} \n",
            "0.677 , (+/-0.041) for {'C': 1, 'kernel': 'poly'} \n",
            "0.659 , (+/-0.023) for {'C': 10, 'kernel': 'poly'} \n",
            "0.587 , (+/-0.093) for {'C': 1, 'kernel': 'sigmoid'} \n",
            "0.522 , (+/-0.059) for {'C': 10, 'kernel': 'sigmoid'} \n",
            "0.481 , (+/-0.021) for {'C': 1, 'gamma': 0.001, 'kernel': 'rbf'} \n",
            "0.644 , (+/-0.068) for {'C': 10, 'gamma': 0.001, 'kernel': 'rbf'} \n",
            "\n",
            "Detailed classification report:\n",
            "\n",
            "The model is trained on the full development set\n",
            "The scores are are computed on the full evaluation set\n",
            "\n",
            "              precision    recall  f1-score   support\n",
            "\n",
            "           0       0.85      0.75      0.79       284\n",
            "           1       0.62      0.29      0.39       159\n",
            "           2       0.75      0.95      0.84       442\n",
            "\n",
            "    accuracy                           0.76       885\n",
            "   macro avg       0.74      0.66      0.67       885\n",
            "weighted avg       0.76      0.76      0.74       885\n",
            "\n",
            "\n",
            "Tuning hyper-parameters for recall \n",
            "\n",
            "Best parameters set found on development set\n",
            "\n",
            "{'C': 10, 'kernel': 'poly'}\n",
            "\n",
            "Grid scores on development set:\n",
            "\n",
            "0.628 , (+/-0.033) for {'C': 1, 'kernel': 'linear'} \n",
            "0.632 , (+/-0.020) for {'C': 10, 'kernel': 'linear'} \n",
            "0.629 , (+/-0.020) for {'C': 1, 'kernel': 'poly'} \n",
            "0.642 , (+/-0.016) for {'C': 10, 'kernel': 'poly'} \n",
            "0.571 , (+/-0.045) for {'C': 1, 'kernel': 'sigmoid'} \n",
            "0.521 , (+/-0.036) for {'C': 10, 'kernel': 'sigmoid'} \n",
            "0.548 , (+/-0.016) for {'C': 1, 'gamma': 0.001, 'kernel': 'rbf'} \n",
            "0.562 , (+/-0.015) for {'C': 10, 'gamma': 0.001, 'kernel': 'rbf'} \n",
            "\n",
            "Detailed classification report:\n",
            "\n",
            "The model is trained on the full development set\n",
            "The scores are are computed on the full evaluation set\n",
            "\n",
            "              precision    recall  f1-score   support\n",
            "\n",
            "           0       0.71      0.75      0.73       284\n",
            "           1       0.45      0.35      0.39       159\n",
            "           2       0.80      0.83      0.81       442\n",
            "\n",
            "    accuracy                           0.72       885\n",
            "   macro avg       0.65      0.64      0.65       885\n",
            "weighted avg       0.71      0.72      0.71       885\n",
            "\n",
            "\n"
          ]
        }
      ],
      "source": [
        "for score in scores:\n",
        "  print('Tuning hyper-parameters for %s ' % score)\n",
        "  print()\n",
        "\n",
        "  clf = GridSearchCV(svm.SVC() , tuned_parameters , scoring='%s_macro' % score)\n",
        "  clf.fit(x_train_rescaled , y_train_transf)\n",
        "\n",
        "  print('Best parameters set found on development set')\n",
        "  print()\n",
        "  print(clf.best_params_)\n",
        "  print()\n",
        "  print('Grid scores on development set:')\n",
        "  print()\n",
        "  means = clf.cv_results_['mean_test_score']\n",
        "  stds = clf.cv_results_['std_test_score']\n",
        "  for mean , std ,params in zip(means , stds , clf.cv_results_['params']):\n",
        "    print('%0.3f , (+/-%0.03f) for %r ' % (mean ,std* 2 , params))\n",
        "  print()\n",
        "\n",
        "  print('Detailed classification report:')\n",
        "  print()\n",
        "  print('The model is trained on the full development set')\n",
        "  print('The scores are are computed on the full evaluation set')\n",
        "  print()\n",
        "  y_true , y_pred = y_test_transf , clf.predict(scaling.transform(x_test_transf))\n",
        "  print(classification_report(y_true , y_pred))\n",
        "  print()\n"
      ],
      "id": "kcVu5HccmGnO"
    }
  ],
  "metadata": {
    "kernelspec": {
      "display_name": "Python 3",
      "language": "python",
      "name": "python3"
    },
    "language_info": {
      "codemirror_mode": {
        "name": "ipython",
        "version": 3
      },
      "file_extension": ".py",
      "mimetype": "text/x-python",
      "name": "python",
      "nbconvert_exporter": "python",
      "pygments_lexer": "ipython3",
      "version": "3.7.6"
    },
    "colab": {
      "name": "School_Dropout_.ipynb",
      "provenance": [],
      "collapsed_sections": [],
      "include_colab_link": true
    }
  },
  "nbformat": 4,
  "nbformat_minor": 5
}